{
  "nbformat": 4,
  "nbformat_minor": 0,
  "metadata": {
    "colab": {
      "provenance": []
    },
    "kernelspec": {
      "name": "python3",
      "display_name": "Python 3"
    },
    "language_info": {
      "name": "python"
    }
  },
  "cells": [
    {
      "cell_type": "code",
      "execution_count": null,
      "metadata": {
        "colab": {
          "base_uri": "https://localhost:8080/"
        },
        "id": "3moWESwjBRLS",
        "outputId": "f0d7d317-7f0c-4e0f-c64d-f86e4e0ccb6a"
      },
      "outputs": [
        {
          "output_type": "stream",
          "name": "stdout",
          "text": [
            "Requirement already satisfied: kaggle in /usr/local/lib/python3.10/dist-packages (1.6.14)\n",
            "Requirement already satisfied: six>=1.10 in /usr/local/lib/python3.10/dist-packages (from kaggle) (1.16.0)\n",
            "Requirement already satisfied: certifi>=2023.7.22 in /usr/local/lib/python3.10/dist-packages (from kaggle) (2024.6.2)\n",
            "Requirement already satisfied: python-dateutil in /usr/local/lib/python3.10/dist-packages (from kaggle) (2.8.2)\n",
            "Requirement already satisfied: requests in /usr/local/lib/python3.10/dist-packages (from kaggle) (2.31.0)\n",
            "Requirement already satisfied: tqdm in /usr/local/lib/python3.10/dist-packages (from kaggle) (4.66.4)\n",
            "Requirement already satisfied: python-slugify in /usr/local/lib/python3.10/dist-packages (from kaggle) (8.0.4)\n",
            "Requirement already satisfied: urllib3 in /usr/local/lib/python3.10/dist-packages (from kaggle) (2.0.7)\n",
            "Requirement already satisfied: bleach in /usr/local/lib/python3.10/dist-packages (from kaggle) (6.1.0)\n",
            "Requirement already satisfied: webencodings in /usr/local/lib/python3.10/dist-packages (from bleach->kaggle) (0.5.1)\n",
            "Requirement already satisfied: text-unidecode>=1.3 in /usr/local/lib/python3.10/dist-packages (from python-slugify->kaggle) (1.3)\n",
            "Requirement already satisfied: charset-normalizer<4,>=2 in /usr/local/lib/python3.10/dist-packages (from requests->kaggle) (3.3.2)\n",
            "Requirement already satisfied: idna<4,>=2.5 in /usr/local/lib/python3.10/dist-packages (from requests->kaggle) (3.7)\n"
          ]
        }
      ],
      "source": [
        "! pip install kaggle"
      ]
    },
    {
      "cell_type": "code",
      "source": [
        "! mkdir -p ~/.kaggle\n",
        "! cp kaggle.json ~/.kaggle/\n",
        "!chmod 600 ~/.kaggle/kaggle.json"
      ],
      "metadata": {
        "id": "8VOwLcJgMuOI"
      },
      "execution_count": null,
      "outputs": []
    },
    {
      "cell_type": "code",
      "source": [
        "!kaggle datasets list\n"
      ],
      "metadata": {
        "colab": {
          "base_uri": "https://localhost:8080/"
        },
        "id": "fXmlhQotNA8W",
        "outputId": "59be24d2-73c1-472d-f83e-ec38d6b5fc03"
      },
      "execution_count": null,
      "outputs": [
        {
          "output_type": "stream",
          "name": "stdout",
          "text": [
            "ref                                                                 title                                               size  lastUpdated          downloadCount  voteCount  usabilityRating  \n",
            "------------------------------------------------------------------  -------------------------------------------------  -----  -------------------  -------------  ---------  ---------------  \n",
            "rabieelkharoua/students-performance-dataset                         📚 Students Performance Dataset 📚                    66KB  2024-06-12 23:09:20          10282        215  1.0              \n",
            "nelgiriyewithana/most-streamed-spotify-songs-2024                   Most Streamed Spotify Songs 2024                   496KB  2024-06-15 18:50:51           7994        168  1.0              \n",
            "dataanalyst001/world-population-by-country-2024                     World Population by country 2024                     6KB  2024-07-04 09:47:58            859         24  1.0              \n",
            "humairmunir/anaemia-prediction                                      Anaemia Prediction                                   2KB  2024-07-04 17:58:40            646         26  1.0              \n",
            "gorororororo23/yerevan-hotels-reservation-prices                    Yerevan Hotels Reservation Prices                    3KB  2024-07-05 01:38:12            610         25  1.0              \n",
            "ihelon/coffee-sales                                                 Coffee Sales                                        10KB  2024-07-03 20:04:43           1266         31  1.0              \n",
            "utsavdey1410/food-nutrition-dataset                                 Food Nutrition Dataset                             694KB  2024-06-29 19:42:01           1160         38  1.0              \n",
            "sujalsuthar/amazon-delivery-dataset                                 Amazon Delivery Dataset                              2MB  2024-07-02 03:39:48            959         26  1.0              \n",
            "nikhil7280/weather-type-classification                              Weather Type Classification                        186KB  2024-06-23 18:15:05           2388         53  1.0              \n",
            "shreyanshverma27/online-sales-dataset-popular-marketplace-data      Online Sales Dataset - Popular Marketplace Data      7KB  2024-05-25 23:55:26          15046        255  1.0              \n",
            "ambaliyagati/spotify-dataset-for-playing-around-with-sql            Spotify dataset                                    302KB  2024-06-17 10:48:20           1102         22  1.0              \n",
            "fahmidachowdhury/customer-segmentation-data-for-marketing-analysis  Customer Segmentation Data for Marketing Analysis   16KB  2024-06-28 15:58:29           1571         41  0.9411765        \n",
            "ranatalha71/stock-prices-of-mastercard-and-visa-2008-2024           Stock Prices of MasterCard and Visa (2008-2024)    174KB  2024-06-30 15:49:22            656         22  0.88235295       \n",
            "melissamonfared/cambridge-crime-data-2009-2024                      Cambridge Crime Data                                 2MB  2024-07-01 16:00:48            188         90  1.0              \n",
            "pardeep19singh/icc-mens-t20-world-cup-2024                          ICC Mens T20 World Cup 2024                         83KB  2024-07-01 15:29:50            668         26  1.0              \n",
            "rabieelkharoua/predict-online-course-engagement-dataset             🎓 Predict Online Course Engagement Dataset         302KB  2024-06-19 03:21:46           1253         30  1.0              \n",
            "anthonytherrien/restaurant-revenue-prediction-dataset               Restaurant Revenue Prediction Dataset              339KB  2024-06-26 23:19:01           1536         40  1.0              \n",
            "bwandowando/rotten-tomatoesall-time-best-super-hero-movies          [🍅Rotten Tomatoes]All Time Best Super Hero Movies  211MB  2024-06-29 00:55:04            542         21  1.0              \n",
            "innocentmfa/students-health-and-academic-performance                Students Health🩺 & Academic📖 Performance🎗️           3KB  2024-06-27 03:57:32            825         33  1.0              \n",
            "mayankanand2701/top-200-richest-worlds-billionaires-dataset         Top 200 Richest Person in the World Dataset 💰🌍💹      5KB  2024-06-27 03:25:28            502         23  1.0              \n"
          ]
        }
      ]
    },
    {
      "cell_type": "code",
      "source": [
        "#we are downloading the dataset using kaggle api\n",
        "! kaggle datasets download -d kazanova/sentiment140"
      ],
      "metadata": {
        "colab": {
          "base_uri": "https://localhost:8080/"
        },
        "id": "optVMhwRNIZl",
        "outputId": "22696072-801a-442b-e957-f577dd5d10a0"
      },
      "execution_count": null,
      "outputs": [
        {
          "output_type": "stream",
          "name": "stdout",
          "text": [
            "Dataset URL: https://www.kaggle.com/datasets/kazanova/sentiment140\n",
            "License(s): other\n",
            "Downloading sentiment140.zip to /content\n",
            " 91% 74.0M/80.9M [00:00<00:00, 224MB/s]\n",
            "100% 80.9M/80.9M [00:00<00:00, 198MB/s]\n"
          ]
        }
      ]
    },
    {
      "cell_type": "code",
      "source": [
        "#extracting the dataset\n",
        "from zipfile import ZipFile\n",
        "#saving path for zip file\n",
        "dataset = \"sentiment140.zip\"\n",
        "\n",
        "with ZipFile(dataset, 'r') as zip:\n",
        "    zip.extractall()\n",
        "    print(\"dataset extraction done\")"
      ],
      "metadata": {
        "colab": {
          "base_uri": "https://localhost:8080/"
        },
        "id": "Z55l3OqWNNgn",
        "outputId": "11443e35-3ecf-42d3-8bab-d643aa02ed76"
      },
      "execution_count": null,
      "outputs": [
        {
          "output_type": "stream",
          "name": "stdout",
          "text": [
            "dataset extraction done\n"
          ]
        }
      ]
    },
    {
      "cell_type": "code",
      "source": [
        "#importing the libraries\n",
        "import pandas as pd\n",
        "import numpy as np\n",
        "# importing the regular expression library\n",
        "import re\n",
        "#importing the stopwords\n",
        "from nltk.corpus import stopwords\n",
        "#importing porter stemmer will be used for stemming\n",
        "from nltk.stem.porter import PorterStemmer\n",
        "from sklearn.feature_extraction.text import TfidfVectorizer\n",
        "from sklearn.model_selection import train_test_split\n",
        "from sklearn.linear_model import LogisticRegression\n",
        "from sklearn.metrics import accuracy_score\n",
        "\n"
      ],
      "metadata": {
        "id": "VEcLDsi9NRTe"
      },
      "execution_count": null,
      "outputs": []
    },
    {
      "cell_type": "code",
      "source": [
        "import nltk\n",
        "nltk.download('stopwords')\n",
        "stopwords_in_english = stopwords.words('english')\n",
        "print(stopwords_in_english)"
      ],
      "metadata": {
        "colab": {
          "base_uri": "https://localhost:8080/"
        },
        "id": "27bc9RFHNUVK",
        "outputId": "83c9d88e-a0ce-4c99-f700-d4c77028c189"
      },
      "execution_count": null,
      "outputs": [
        {
          "output_type": "stream",
          "name": "stdout",
          "text": [
            "['i', 'me', 'my', 'myself', 'we', 'our', 'ours', 'ourselves', 'you', \"you're\", \"you've\", \"you'll\", \"you'd\", 'your', 'yours', 'yourself', 'yourselves', 'he', 'him', 'his', 'himself', 'she', \"she's\", 'her', 'hers', 'herself', 'it', \"it's\", 'its', 'itself', 'they', 'them', 'their', 'theirs', 'themselves', 'what', 'which', 'who', 'whom', 'this', 'that', \"that'll\", 'these', 'those', 'am', 'is', 'are', 'was', 'were', 'be', 'been', 'being', 'have', 'has', 'had', 'having', 'do', 'does', 'did', 'doing', 'a', 'an', 'the', 'and', 'but', 'if', 'or', 'because', 'as', 'until', 'while', 'of', 'at', 'by', 'for', 'with', 'about', 'against', 'between', 'into', 'through', 'during', 'before', 'after', 'above', 'below', 'to', 'from', 'up', 'down', 'in', 'out', 'on', 'off', 'over', 'under', 'again', 'further', 'then', 'once', 'here', 'there', 'when', 'where', 'why', 'how', 'all', 'any', 'both', 'each', 'few', 'more', 'most', 'other', 'some', 'such', 'no', 'nor', 'not', 'only', 'own', 'same', 'so', 'than', 'too', 'very', 's', 't', 'can', 'will', 'just', 'don', \"don't\", 'should', \"should've\", 'now', 'd', 'll', 'm', 'o', 're', 've', 'y', 'ain', 'aren', \"aren't\", 'couldn', \"couldn't\", 'didn', \"didn't\", 'doesn', \"doesn't\", 'hadn', \"hadn't\", 'hasn', \"hasn't\", 'haven', \"haven't\", 'isn', \"isn't\", 'ma', 'mightn', \"mightn't\", 'mustn', \"mustn't\", 'needn', \"needn't\", 'shan', \"shan't\", 'shouldn', \"shouldn't\", 'wasn', \"wasn't\", 'weren', \"weren't\", 'won', \"won't\", 'wouldn', \"wouldn't\"]\n"
          ]
        },
        {
          "output_type": "stream",
          "name": "stderr",
          "text": [
            "[nltk_data] Downloading package stopwords to /root/nltk_data...\n",
            "[nltk_data]   Package stopwords is already up-to-date!\n"
          ]
        }
      ]
    },
    {
      "cell_type": "code",
      "source": [
        "#loading the dataset\n",
        "twitter_data= pd.read_csv('/content/training.1600000.processed.noemoticon.csv',encoding='ISO-8859-1')\n"
      ],
      "metadata": {
        "colab": {
          "base_uri": "https://localhost:8080/",
          "height": 330
        },
        "id": "adcwUvKiNX0H",
        "outputId": "91e9c94d-0a10-4692-e9fe-a680fe2c51da"
      },
      "execution_count": null,
      "outputs": [
        {
          "output_type": "execute_result",
          "data": {
            "text/plain": [
              "   0  1467810369  Mon Apr 06 22:19:45 PDT 2009  NO_QUERY _TheSpecialOne_  \\\n",
              "0  0  1467810672  Mon Apr 06 22:19:49 PDT 2009  NO_QUERY   scotthamilton   \n",
              "1  0  1467810917  Mon Apr 06 22:19:53 PDT 2009  NO_QUERY        mattycus   \n",
              "2  0  1467811184  Mon Apr 06 22:19:57 PDT 2009  NO_QUERY         ElleCTF   \n",
              "3  0  1467811193  Mon Apr 06 22:19:57 PDT 2009  NO_QUERY          Karoli   \n",
              "4  0  1467811372  Mon Apr 06 22:20:00 PDT 2009  NO_QUERY        joy_wolf   \n",
              "\n",
              "  @switchfoot http://twitpic.com/2y1zl - Awww, that's a bummer.  You shoulda got David Carr of Third Day to do it. ;D  \n",
              "0  is upset that he can't update his Facebook by ...                                                                   \n",
              "1  @Kenichan I dived many times for the ball. Man...                                                                   \n",
              "2    my whole body feels itchy and like its on fire                                                                    \n",
              "3  @nationwideclass no, it's not behaving at all....                                                                   \n",
              "4                      @Kwesidei not the whole crew                                                                    "
            ],
            "text/html": [
              "\n",
              "  <div id=\"df-bc074a1f-8001-42aa-96f7-d72b19299713\" class=\"colab-df-container\">\n",
              "    <div>\n",
              "<style scoped>\n",
              "    .dataframe tbody tr th:only-of-type {\n",
              "        vertical-align: middle;\n",
              "    }\n",
              "\n",
              "    .dataframe tbody tr th {\n",
              "        vertical-align: top;\n",
              "    }\n",
              "\n",
              "    .dataframe thead th {\n",
              "        text-align: right;\n",
              "    }\n",
              "</style>\n",
              "<table border=\"1\" class=\"dataframe\">\n",
              "  <thead>\n",
              "    <tr style=\"text-align: right;\">\n",
              "      <th></th>\n",
              "      <th>0</th>\n",
              "      <th>1467810369</th>\n",
              "      <th>Mon Apr 06 22:19:45 PDT 2009</th>\n",
              "      <th>NO_QUERY</th>\n",
              "      <th>_TheSpecialOne_</th>\n",
              "      <th>@switchfoot http://twitpic.com/2y1zl - Awww, that's a bummer.  You shoulda got David Carr of Third Day to do it. ;D</th>\n",
              "    </tr>\n",
              "  </thead>\n",
              "  <tbody>\n",
              "    <tr>\n",
              "      <th>0</th>\n",
              "      <td>0</td>\n",
              "      <td>1467810672</td>\n",
              "      <td>Mon Apr 06 22:19:49 PDT 2009</td>\n",
              "      <td>NO_QUERY</td>\n",
              "      <td>scotthamilton</td>\n",
              "      <td>is upset that he can't update his Facebook by ...</td>\n",
              "    </tr>\n",
              "    <tr>\n",
              "      <th>1</th>\n",
              "      <td>0</td>\n",
              "      <td>1467810917</td>\n",
              "      <td>Mon Apr 06 22:19:53 PDT 2009</td>\n",
              "      <td>NO_QUERY</td>\n",
              "      <td>mattycus</td>\n",
              "      <td>@Kenichan I dived many times for the ball. Man...</td>\n",
              "    </tr>\n",
              "    <tr>\n",
              "      <th>2</th>\n",
              "      <td>0</td>\n",
              "      <td>1467811184</td>\n",
              "      <td>Mon Apr 06 22:19:57 PDT 2009</td>\n",
              "      <td>NO_QUERY</td>\n",
              "      <td>ElleCTF</td>\n",
              "      <td>my whole body feels itchy and like its on fire</td>\n",
              "    </tr>\n",
              "    <tr>\n",
              "      <th>3</th>\n",
              "      <td>0</td>\n",
              "      <td>1467811193</td>\n",
              "      <td>Mon Apr 06 22:19:57 PDT 2009</td>\n",
              "      <td>NO_QUERY</td>\n",
              "      <td>Karoli</td>\n",
              "      <td>@nationwideclass no, it's not behaving at all....</td>\n",
              "    </tr>\n",
              "    <tr>\n",
              "      <th>4</th>\n",
              "      <td>0</td>\n",
              "      <td>1467811372</td>\n",
              "      <td>Mon Apr 06 22:20:00 PDT 2009</td>\n",
              "      <td>NO_QUERY</td>\n",
              "      <td>joy_wolf</td>\n",
              "      <td>@Kwesidei not the whole crew</td>\n",
              "    </tr>\n",
              "  </tbody>\n",
              "</table>\n",
              "</div>\n",
              "    <div class=\"colab-df-buttons\">\n",
              "\n",
              "  <div class=\"colab-df-container\">\n",
              "    <button class=\"colab-df-convert\" onclick=\"convertToInteractive('df-bc074a1f-8001-42aa-96f7-d72b19299713')\"\n",
              "            title=\"Convert this dataframe to an interactive table.\"\n",
              "            style=\"display:none;\">\n",
              "\n",
              "  <svg xmlns=\"http://www.w3.org/2000/svg\" height=\"24px\" viewBox=\"0 -960 960 960\">\n",
              "    <path d=\"M120-120v-720h720v720H120Zm60-500h600v-160H180v160Zm220 220h160v-160H400v160Zm0 220h160v-160H400v160ZM180-400h160v-160H180v160Zm440 0h160v-160H620v160ZM180-180h160v-160H180v160Zm440 0h160v-160H620v160Z\"/>\n",
              "  </svg>\n",
              "    </button>\n",
              "\n",
              "  <style>\n",
              "    .colab-df-container {\n",
              "      display:flex;\n",
              "      gap: 12px;\n",
              "    }\n",
              "\n",
              "    .colab-df-convert {\n",
              "      background-color: #E8F0FE;\n",
              "      border: none;\n",
              "      border-radius: 50%;\n",
              "      cursor: pointer;\n",
              "      display: none;\n",
              "      fill: #1967D2;\n",
              "      height: 32px;\n",
              "      padding: 0 0 0 0;\n",
              "      width: 32px;\n",
              "    }\n",
              "\n",
              "    .colab-df-convert:hover {\n",
              "      background-color: #E2EBFA;\n",
              "      box-shadow: 0px 1px 2px rgba(60, 64, 67, 0.3), 0px 1px 3px 1px rgba(60, 64, 67, 0.15);\n",
              "      fill: #174EA6;\n",
              "    }\n",
              "\n",
              "    .colab-df-buttons div {\n",
              "      margin-bottom: 4px;\n",
              "    }\n",
              "\n",
              "    [theme=dark] .colab-df-convert {\n",
              "      background-color: #3B4455;\n",
              "      fill: #D2E3FC;\n",
              "    }\n",
              "\n",
              "    [theme=dark] .colab-df-convert:hover {\n",
              "      background-color: #434B5C;\n",
              "      box-shadow: 0px 1px 3px 1px rgba(0, 0, 0, 0.15);\n",
              "      filter: drop-shadow(0px 1px 2px rgba(0, 0, 0, 0.3));\n",
              "      fill: #FFFFFF;\n",
              "    }\n",
              "  </style>\n",
              "\n",
              "    <script>\n",
              "      const buttonEl =\n",
              "        document.querySelector('#df-bc074a1f-8001-42aa-96f7-d72b19299713 button.colab-df-convert');\n",
              "      buttonEl.style.display =\n",
              "        google.colab.kernel.accessAllowed ? 'block' : 'none';\n",
              "\n",
              "      async function convertToInteractive(key) {\n",
              "        const element = document.querySelector('#df-bc074a1f-8001-42aa-96f7-d72b19299713');\n",
              "        const dataTable =\n",
              "          await google.colab.kernel.invokeFunction('convertToInteractive',\n",
              "                                                    [key], {});\n",
              "        if (!dataTable) return;\n",
              "\n",
              "        const docLinkHtml = 'Like what you see? Visit the ' +\n",
              "          '<a target=\"_blank\" href=https://colab.research.google.com/notebooks/data_table.ipynb>data table notebook</a>'\n",
              "          + ' to learn more about interactive tables.';\n",
              "        element.innerHTML = '';\n",
              "        dataTable['output_type'] = 'display_data';\n",
              "        await google.colab.output.renderOutput(dataTable, element);\n",
              "        const docLink = document.createElement('div');\n",
              "        docLink.innerHTML = docLinkHtml;\n",
              "        element.appendChild(docLink);\n",
              "      }\n",
              "    </script>\n",
              "  </div>\n",
              "\n",
              "\n",
              "<div id=\"df-f68faa11-4bc0-4565-9307-84cda56157d9\">\n",
              "  <button class=\"colab-df-quickchart\" onclick=\"quickchart('df-f68faa11-4bc0-4565-9307-84cda56157d9')\"\n",
              "            title=\"Suggest charts\"\n",
              "            style=\"display:none;\">\n",
              "\n",
              "<svg xmlns=\"http://www.w3.org/2000/svg\" height=\"24px\"viewBox=\"0 0 24 24\"\n",
              "     width=\"24px\">\n",
              "    <g>\n",
              "        <path d=\"M19 3H5c-1.1 0-2 .9-2 2v14c0 1.1.9 2 2 2h14c1.1 0 2-.9 2-2V5c0-1.1-.9-2-2-2zM9 17H7v-7h2v7zm4 0h-2V7h2v10zm4 0h-2v-4h2v4z\"/>\n",
              "    </g>\n",
              "</svg>\n",
              "  </button>\n",
              "\n",
              "<style>\n",
              "  .colab-df-quickchart {\n",
              "      --bg-color: #E8F0FE;\n",
              "      --fill-color: #1967D2;\n",
              "      --hover-bg-color: #E2EBFA;\n",
              "      --hover-fill-color: #174EA6;\n",
              "      --disabled-fill-color: #AAA;\n",
              "      --disabled-bg-color: #DDD;\n",
              "  }\n",
              "\n",
              "  [theme=dark] .colab-df-quickchart {\n",
              "      --bg-color: #3B4455;\n",
              "      --fill-color: #D2E3FC;\n",
              "      --hover-bg-color: #434B5C;\n",
              "      --hover-fill-color: #FFFFFF;\n",
              "      --disabled-bg-color: #3B4455;\n",
              "      --disabled-fill-color: #666;\n",
              "  }\n",
              "\n",
              "  .colab-df-quickchart {\n",
              "    background-color: var(--bg-color);\n",
              "    border: none;\n",
              "    border-radius: 50%;\n",
              "    cursor: pointer;\n",
              "    display: none;\n",
              "    fill: var(--fill-color);\n",
              "    height: 32px;\n",
              "    padding: 0;\n",
              "    width: 32px;\n",
              "  }\n",
              "\n",
              "  .colab-df-quickchart:hover {\n",
              "    background-color: var(--hover-bg-color);\n",
              "    box-shadow: 0 1px 2px rgba(60, 64, 67, 0.3), 0 1px 3px 1px rgba(60, 64, 67, 0.15);\n",
              "    fill: var(--button-hover-fill-color);\n",
              "  }\n",
              "\n",
              "  .colab-df-quickchart-complete:disabled,\n",
              "  .colab-df-quickchart-complete:disabled:hover {\n",
              "    background-color: var(--disabled-bg-color);\n",
              "    fill: var(--disabled-fill-color);\n",
              "    box-shadow: none;\n",
              "  }\n",
              "\n",
              "  .colab-df-spinner {\n",
              "    border: 2px solid var(--fill-color);\n",
              "    border-color: transparent;\n",
              "    border-bottom-color: var(--fill-color);\n",
              "    animation:\n",
              "      spin 1s steps(1) infinite;\n",
              "  }\n",
              "\n",
              "  @keyframes spin {\n",
              "    0% {\n",
              "      border-color: transparent;\n",
              "      border-bottom-color: var(--fill-color);\n",
              "      border-left-color: var(--fill-color);\n",
              "    }\n",
              "    20% {\n",
              "      border-color: transparent;\n",
              "      border-left-color: var(--fill-color);\n",
              "      border-top-color: var(--fill-color);\n",
              "    }\n",
              "    30% {\n",
              "      border-color: transparent;\n",
              "      border-left-color: var(--fill-color);\n",
              "      border-top-color: var(--fill-color);\n",
              "      border-right-color: var(--fill-color);\n",
              "    }\n",
              "    40% {\n",
              "      border-color: transparent;\n",
              "      border-right-color: var(--fill-color);\n",
              "      border-top-color: var(--fill-color);\n",
              "    }\n",
              "    60% {\n",
              "      border-color: transparent;\n",
              "      border-right-color: var(--fill-color);\n",
              "    }\n",
              "    80% {\n",
              "      border-color: transparent;\n",
              "      border-right-color: var(--fill-color);\n",
              "      border-bottom-color: var(--fill-color);\n",
              "    }\n",
              "    90% {\n",
              "      border-color: transparent;\n",
              "      border-bottom-color: var(--fill-color);\n",
              "    }\n",
              "  }\n",
              "</style>\n",
              "\n",
              "  <script>\n",
              "    async function quickchart(key) {\n",
              "      const quickchartButtonEl =\n",
              "        document.querySelector('#' + key + ' button');\n",
              "      quickchartButtonEl.disabled = true;  // To prevent multiple clicks.\n",
              "      quickchartButtonEl.classList.add('colab-df-spinner');\n",
              "      try {\n",
              "        const charts = await google.colab.kernel.invokeFunction(\n",
              "            'suggestCharts', [key], {});\n",
              "      } catch (error) {\n",
              "        console.error('Error during call to suggestCharts:', error);\n",
              "      }\n",
              "      quickchartButtonEl.classList.remove('colab-df-spinner');\n",
              "      quickchartButtonEl.classList.add('colab-df-quickchart-complete');\n",
              "    }\n",
              "    (() => {\n",
              "      let quickchartButtonEl =\n",
              "        document.querySelector('#df-f68faa11-4bc0-4565-9307-84cda56157d9 button');\n",
              "      quickchartButtonEl.style.display =\n",
              "        google.colab.kernel.accessAllowed ? 'block' : 'none';\n",
              "    })();\n",
              "  </script>\n",
              "</div>\n",
              "\n",
              "    </div>\n",
              "  </div>\n"
            ],
            "application/vnd.google.colaboratory.intrinsic+json": {
              "type": "dataframe",
              "variable_name": "twitter_data"
            }
          },
          "metadata": {},
          "execution_count": 14
        }
      ]
    },
    {
      "cell_type": "code",
      "source": [
        "#checking the data\n",
        "twitter_data.shape\n",
        "\n"
      ],
      "metadata": {
        "colab": {
          "base_uri": "https://localhost:8080/"
        },
        "id": "Br4aa260OSZ8",
        "outputId": "ecf552ad-de1e-469b-e5a7-5cdd6248814a"
      },
      "execution_count": null,
      "outputs": [
        {
          "output_type": "execute_result",
          "data": {
            "text/plain": [
              "(1599999, 6)"
            ]
          },
          "metadata": {},
          "execution_count": 20
        }
      ]
    },
    {
      "cell_type": "code",
      "source": [
        "twitter_data.head()\n",
        "#here we can see that tha columns names are not there it is treating the first row as column name"
      ],
      "metadata": {
        "colab": {
          "base_uri": "https://localhost:8080/",
          "height": 330
        },
        "id": "6oSkwsa7OuLC",
        "outputId": "7f44c18c-c413-46d8-d05b-67792d1f7bf3"
      },
      "execution_count": null,
      "outputs": [
        {
          "output_type": "execute_result",
          "data": {
            "text/plain": [
              "   0  1467810369  Mon Apr 06 22:19:45 PDT 2009  NO_QUERY _TheSpecialOne_  \\\n",
              "0  0  1467810672  Mon Apr 06 22:19:49 PDT 2009  NO_QUERY   scotthamilton   \n",
              "1  0  1467810917  Mon Apr 06 22:19:53 PDT 2009  NO_QUERY        mattycus   \n",
              "2  0  1467811184  Mon Apr 06 22:19:57 PDT 2009  NO_QUERY         ElleCTF   \n",
              "3  0  1467811193  Mon Apr 06 22:19:57 PDT 2009  NO_QUERY          Karoli   \n",
              "4  0  1467811372  Mon Apr 06 22:20:00 PDT 2009  NO_QUERY        joy_wolf   \n",
              "\n",
              "  @switchfoot http://twitpic.com/2y1zl - Awww, that's a bummer.  You shoulda got David Carr of Third Day to do it. ;D  \n",
              "0  is upset that he can't update his Facebook by ...                                                                   \n",
              "1  @Kenichan I dived many times for the ball. Man...                                                                   \n",
              "2    my whole body feels itchy and like its on fire                                                                    \n",
              "3  @nationwideclass no, it's not behaving at all....                                                                   \n",
              "4                      @Kwesidei not the whole crew                                                                    "
            ],
            "text/html": [
              "\n",
              "  <div id=\"df-e3f3ff7f-2b74-4149-869f-2f324753a493\" class=\"colab-df-container\">\n",
              "    <div>\n",
              "<style scoped>\n",
              "    .dataframe tbody tr th:only-of-type {\n",
              "        vertical-align: middle;\n",
              "    }\n",
              "\n",
              "    .dataframe tbody tr th {\n",
              "        vertical-align: top;\n",
              "    }\n",
              "\n",
              "    .dataframe thead th {\n",
              "        text-align: right;\n",
              "    }\n",
              "</style>\n",
              "<table border=\"1\" class=\"dataframe\">\n",
              "  <thead>\n",
              "    <tr style=\"text-align: right;\">\n",
              "      <th></th>\n",
              "      <th>0</th>\n",
              "      <th>1467810369</th>\n",
              "      <th>Mon Apr 06 22:19:45 PDT 2009</th>\n",
              "      <th>NO_QUERY</th>\n",
              "      <th>_TheSpecialOne_</th>\n",
              "      <th>@switchfoot http://twitpic.com/2y1zl - Awww, that's a bummer.  You shoulda got David Carr of Third Day to do it. ;D</th>\n",
              "    </tr>\n",
              "  </thead>\n",
              "  <tbody>\n",
              "    <tr>\n",
              "      <th>0</th>\n",
              "      <td>0</td>\n",
              "      <td>1467810672</td>\n",
              "      <td>Mon Apr 06 22:19:49 PDT 2009</td>\n",
              "      <td>NO_QUERY</td>\n",
              "      <td>scotthamilton</td>\n",
              "      <td>is upset that he can't update his Facebook by ...</td>\n",
              "    </tr>\n",
              "    <tr>\n",
              "      <th>1</th>\n",
              "      <td>0</td>\n",
              "      <td>1467810917</td>\n",
              "      <td>Mon Apr 06 22:19:53 PDT 2009</td>\n",
              "      <td>NO_QUERY</td>\n",
              "      <td>mattycus</td>\n",
              "      <td>@Kenichan I dived many times for the ball. Man...</td>\n",
              "    </tr>\n",
              "    <tr>\n",
              "      <th>2</th>\n",
              "      <td>0</td>\n",
              "      <td>1467811184</td>\n",
              "      <td>Mon Apr 06 22:19:57 PDT 2009</td>\n",
              "      <td>NO_QUERY</td>\n",
              "      <td>ElleCTF</td>\n",
              "      <td>my whole body feels itchy and like its on fire</td>\n",
              "    </tr>\n",
              "    <tr>\n",
              "      <th>3</th>\n",
              "      <td>0</td>\n",
              "      <td>1467811193</td>\n",
              "      <td>Mon Apr 06 22:19:57 PDT 2009</td>\n",
              "      <td>NO_QUERY</td>\n",
              "      <td>Karoli</td>\n",
              "      <td>@nationwideclass no, it's not behaving at all....</td>\n",
              "    </tr>\n",
              "    <tr>\n",
              "      <th>4</th>\n",
              "      <td>0</td>\n",
              "      <td>1467811372</td>\n",
              "      <td>Mon Apr 06 22:20:00 PDT 2009</td>\n",
              "      <td>NO_QUERY</td>\n",
              "      <td>joy_wolf</td>\n",
              "      <td>@Kwesidei not the whole crew</td>\n",
              "    </tr>\n",
              "  </tbody>\n",
              "</table>\n",
              "</div>\n",
              "    <div class=\"colab-df-buttons\">\n",
              "\n",
              "  <div class=\"colab-df-container\">\n",
              "    <button class=\"colab-df-convert\" onclick=\"convertToInteractive('df-e3f3ff7f-2b74-4149-869f-2f324753a493')\"\n",
              "            title=\"Convert this dataframe to an interactive table.\"\n",
              "            style=\"display:none;\">\n",
              "\n",
              "  <svg xmlns=\"http://www.w3.org/2000/svg\" height=\"24px\" viewBox=\"0 -960 960 960\">\n",
              "    <path d=\"M120-120v-720h720v720H120Zm60-500h600v-160H180v160Zm220 220h160v-160H400v160Zm0 220h160v-160H400v160ZM180-400h160v-160H180v160Zm440 0h160v-160H620v160ZM180-180h160v-160H180v160Zm440 0h160v-160H620v160Z\"/>\n",
              "  </svg>\n",
              "    </button>\n",
              "\n",
              "  <style>\n",
              "    .colab-df-container {\n",
              "      display:flex;\n",
              "      gap: 12px;\n",
              "    }\n",
              "\n",
              "    .colab-df-convert {\n",
              "      background-color: #E8F0FE;\n",
              "      border: none;\n",
              "      border-radius: 50%;\n",
              "      cursor: pointer;\n",
              "      display: none;\n",
              "      fill: #1967D2;\n",
              "      height: 32px;\n",
              "      padding: 0 0 0 0;\n",
              "      width: 32px;\n",
              "    }\n",
              "\n",
              "    .colab-df-convert:hover {\n",
              "      background-color: #E2EBFA;\n",
              "      box-shadow: 0px 1px 2px rgba(60, 64, 67, 0.3), 0px 1px 3px 1px rgba(60, 64, 67, 0.15);\n",
              "      fill: #174EA6;\n",
              "    }\n",
              "\n",
              "    .colab-df-buttons div {\n",
              "      margin-bottom: 4px;\n",
              "    }\n",
              "\n",
              "    [theme=dark] .colab-df-convert {\n",
              "      background-color: #3B4455;\n",
              "      fill: #D2E3FC;\n",
              "    }\n",
              "\n",
              "    [theme=dark] .colab-df-convert:hover {\n",
              "      background-color: #434B5C;\n",
              "      box-shadow: 0px 1px 3px 1px rgba(0, 0, 0, 0.15);\n",
              "      filter: drop-shadow(0px 1px 2px rgba(0, 0, 0, 0.3));\n",
              "      fill: #FFFFFF;\n",
              "    }\n",
              "  </style>\n",
              "\n",
              "    <script>\n",
              "      const buttonEl =\n",
              "        document.querySelector('#df-e3f3ff7f-2b74-4149-869f-2f324753a493 button.colab-df-convert');\n",
              "      buttonEl.style.display =\n",
              "        google.colab.kernel.accessAllowed ? 'block' : 'none';\n",
              "\n",
              "      async function convertToInteractive(key) {\n",
              "        const element = document.querySelector('#df-e3f3ff7f-2b74-4149-869f-2f324753a493');\n",
              "        const dataTable =\n",
              "          await google.colab.kernel.invokeFunction('convertToInteractive',\n",
              "                                                    [key], {});\n",
              "        if (!dataTable) return;\n",
              "\n",
              "        const docLinkHtml = 'Like what you see? Visit the ' +\n",
              "          '<a target=\"_blank\" href=https://colab.research.google.com/notebooks/data_table.ipynb>data table notebook</a>'\n",
              "          + ' to learn more about interactive tables.';\n",
              "        element.innerHTML = '';\n",
              "        dataTable['output_type'] = 'display_data';\n",
              "        await google.colab.output.renderOutput(dataTable, element);\n",
              "        const docLink = document.createElement('div');\n",
              "        docLink.innerHTML = docLinkHtml;\n",
              "        element.appendChild(docLink);\n",
              "      }\n",
              "    </script>\n",
              "  </div>\n",
              "\n",
              "\n",
              "<div id=\"df-1d5c4f98-e92c-4a52-9937-5818384596f9\">\n",
              "  <button class=\"colab-df-quickchart\" onclick=\"quickchart('df-1d5c4f98-e92c-4a52-9937-5818384596f9')\"\n",
              "            title=\"Suggest charts\"\n",
              "            style=\"display:none;\">\n",
              "\n",
              "<svg xmlns=\"http://www.w3.org/2000/svg\" height=\"24px\"viewBox=\"0 0 24 24\"\n",
              "     width=\"24px\">\n",
              "    <g>\n",
              "        <path d=\"M19 3H5c-1.1 0-2 .9-2 2v14c0 1.1.9 2 2 2h14c1.1 0 2-.9 2-2V5c0-1.1-.9-2-2-2zM9 17H7v-7h2v7zm4 0h-2V7h2v10zm4 0h-2v-4h2v4z\"/>\n",
              "    </g>\n",
              "</svg>\n",
              "  </button>\n",
              "\n",
              "<style>\n",
              "  .colab-df-quickchart {\n",
              "      --bg-color: #E8F0FE;\n",
              "      --fill-color: #1967D2;\n",
              "      --hover-bg-color: #E2EBFA;\n",
              "      --hover-fill-color: #174EA6;\n",
              "      --disabled-fill-color: #AAA;\n",
              "      --disabled-bg-color: #DDD;\n",
              "  }\n",
              "\n",
              "  [theme=dark] .colab-df-quickchart {\n",
              "      --bg-color: #3B4455;\n",
              "      --fill-color: #D2E3FC;\n",
              "      --hover-bg-color: #434B5C;\n",
              "      --hover-fill-color: #FFFFFF;\n",
              "      --disabled-bg-color: #3B4455;\n",
              "      --disabled-fill-color: #666;\n",
              "  }\n",
              "\n",
              "  .colab-df-quickchart {\n",
              "    background-color: var(--bg-color);\n",
              "    border: none;\n",
              "    border-radius: 50%;\n",
              "    cursor: pointer;\n",
              "    display: none;\n",
              "    fill: var(--fill-color);\n",
              "    height: 32px;\n",
              "    padding: 0;\n",
              "    width: 32px;\n",
              "  }\n",
              "\n",
              "  .colab-df-quickchart:hover {\n",
              "    background-color: var(--hover-bg-color);\n",
              "    box-shadow: 0 1px 2px rgba(60, 64, 67, 0.3), 0 1px 3px 1px rgba(60, 64, 67, 0.15);\n",
              "    fill: var(--button-hover-fill-color);\n",
              "  }\n",
              "\n",
              "  .colab-df-quickchart-complete:disabled,\n",
              "  .colab-df-quickchart-complete:disabled:hover {\n",
              "    background-color: var(--disabled-bg-color);\n",
              "    fill: var(--disabled-fill-color);\n",
              "    box-shadow: none;\n",
              "  }\n",
              "\n",
              "  .colab-df-spinner {\n",
              "    border: 2px solid var(--fill-color);\n",
              "    border-color: transparent;\n",
              "    border-bottom-color: var(--fill-color);\n",
              "    animation:\n",
              "      spin 1s steps(1) infinite;\n",
              "  }\n",
              "\n",
              "  @keyframes spin {\n",
              "    0% {\n",
              "      border-color: transparent;\n",
              "      border-bottom-color: var(--fill-color);\n",
              "      border-left-color: var(--fill-color);\n",
              "    }\n",
              "    20% {\n",
              "      border-color: transparent;\n",
              "      border-left-color: var(--fill-color);\n",
              "      border-top-color: var(--fill-color);\n",
              "    }\n",
              "    30% {\n",
              "      border-color: transparent;\n",
              "      border-left-color: var(--fill-color);\n",
              "      border-top-color: var(--fill-color);\n",
              "      border-right-color: var(--fill-color);\n",
              "    }\n",
              "    40% {\n",
              "      border-color: transparent;\n",
              "      border-right-color: var(--fill-color);\n",
              "      border-top-color: var(--fill-color);\n",
              "    }\n",
              "    60% {\n",
              "      border-color: transparent;\n",
              "      border-right-color: var(--fill-color);\n",
              "    }\n",
              "    80% {\n",
              "      border-color: transparent;\n",
              "      border-right-color: var(--fill-color);\n",
              "      border-bottom-color: var(--fill-color);\n",
              "    }\n",
              "    90% {\n",
              "      border-color: transparent;\n",
              "      border-bottom-color: var(--fill-color);\n",
              "    }\n",
              "  }\n",
              "</style>\n",
              "\n",
              "  <script>\n",
              "    async function quickchart(key) {\n",
              "      const quickchartButtonEl =\n",
              "        document.querySelector('#' + key + ' button');\n",
              "      quickchartButtonEl.disabled = true;  // To prevent multiple clicks.\n",
              "      quickchartButtonEl.classList.add('colab-df-spinner');\n",
              "      try {\n",
              "        const charts = await google.colab.kernel.invokeFunction(\n",
              "            'suggestCharts', [key], {});\n",
              "      } catch (error) {\n",
              "        console.error('Error during call to suggestCharts:', error);\n",
              "      }\n",
              "      quickchartButtonEl.classList.remove('colab-df-spinner');\n",
              "      quickchartButtonEl.classList.add('colab-df-quickchart-complete');\n",
              "    }\n",
              "    (() => {\n",
              "      let quickchartButtonEl =\n",
              "        document.querySelector('#df-1d5c4f98-e92c-4a52-9937-5818384596f9 button');\n",
              "      quickchartButtonEl.style.display =\n",
              "        google.colab.kernel.accessAllowed ? 'block' : 'none';\n",
              "    })();\n",
              "  </script>\n",
              "</div>\n",
              "\n",
              "    </div>\n",
              "  </div>\n"
            ],
            "application/vnd.google.colaboratory.intrinsic+json": {
              "type": "dataframe",
              "variable_name": "twitter_data"
            }
          },
          "metadata": {},
          "execution_count": 21
        }
      ]
    },
    {
      "cell_type": "code",
      "source": [
        "#here the column with name as zero is the target column which is having two values ( 0 for negative  and 4 for positive)\n",
        "twitter_data['0'].unique()"
      ],
      "metadata": {
        "colab": {
          "base_uri": "https://localhost:8080/"
        },
        "id": "0AXKskfHPQkB",
        "outputId": "a93c9a63-104f-47d1-b0a3-b69b91af23ab"
      },
      "execution_count": null,
      "outputs": [
        {
          "output_type": "execute_result",
          "data": {
            "text/plain": [
              "array([0, 4])"
            ]
          },
          "metadata": {},
          "execution_count": 22
        }
      ]
    },
    {
      "cell_type": "markdown",
      "source": [
        "![image.png](data:image/png;base64,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)\n",
        "\n",
        "\n",
        "Here the column names are not added , so we are adding the column names manually and reading the data again including the column names\n",
        "\n"
      ],
      "metadata": {
        "id": "6YqAEEOWQZtA"
      }
    },
    {
      "cell_type": "code",
      "source": [
        "column_names=['target','id','date','flag','user','text']\n",
        "twitter_data= pd.read_csv('/content/training.1600000.processed.noemoticon.csv', names= column_names ,encoding='ISO-8859-1')\n",
        "\n"
      ],
      "metadata": {
        "colab": {
          "base_uri": "https://localhost:8080/"
        },
        "id": "ofIidCw9PYI2",
        "outputId": "3578c893-9584-4bf3-c67e-1931af280287"
      },
      "execution_count": null,
      "outputs": [
        {
          "output_type": "execute_result",
          "data": {
            "text/plain": [
              "(1600000, 6)"
            ]
          },
          "metadata": {},
          "execution_count": 24
        }
      ]
    },
    {
      "cell_type": "code",
      "source": [
        "print(twitter_data.shape)\n",
        "twitter_data.head()\n"
      ],
      "metadata": {
        "colab": {
          "base_uri": "https://localhost:8080/",
          "height": 243
        },
        "id": "d-eiZfybROCA",
        "outputId": "49f79872-6abd-4a97-d480-d267eb191654"
      },
      "execution_count": null,
      "outputs": [
        {
          "output_type": "stream",
          "name": "stdout",
          "text": [
            "(1600000, 6)\n"
          ]
        },
        {
          "output_type": "execute_result",
          "data": {
            "text/plain": [
              "   target          id                          date      flag  \\\n",
              "0       0  1467810369  Mon Apr 06 22:19:45 PDT 2009  NO_QUERY   \n",
              "1       0  1467810672  Mon Apr 06 22:19:49 PDT 2009  NO_QUERY   \n",
              "2       0  1467810917  Mon Apr 06 22:19:53 PDT 2009  NO_QUERY   \n",
              "3       0  1467811184  Mon Apr 06 22:19:57 PDT 2009  NO_QUERY   \n",
              "4       0  1467811193  Mon Apr 06 22:19:57 PDT 2009  NO_QUERY   \n",
              "\n",
              "              user                                               text  \n",
              "0  _TheSpecialOne_  @switchfoot http://twitpic.com/2y1zl - Awww, t...  \n",
              "1    scotthamilton  is upset that he can't update his Facebook by ...  \n",
              "2         mattycus  @Kenichan I dived many times for the ball. Man...  \n",
              "3          ElleCTF    my whole body feels itchy and like its on fire   \n",
              "4           Karoli  @nationwideclass no, it's not behaving at all....  "
            ],
            "text/html": [
              "\n",
              "  <div id=\"df-d77cff8e-0cc6-4b78-aa7f-08391a240e2f\" class=\"colab-df-container\">\n",
              "    <div>\n",
              "<style scoped>\n",
              "    .dataframe tbody tr th:only-of-type {\n",
              "        vertical-align: middle;\n",
              "    }\n",
              "\n",
              "    .dataframe tbody tr th {\n",
              "        vertical-align: top;\n",
              "    }\n",
              "\n",
              "    .dataframe thead th {\n",
              "        text-align: right;\n",
              "    }\n",
              "</style>\n",
              "<table border=\"1\" class=\"dataframe\">\n",
              "  <thead>\n",
              "    <tr style=\"text-align: right;\">\n",
              "      <th></th>\n",
              "      <th>target</th>\n",
              "      <th>id</th>\n",
              "      <th>date</th>\n",
              "      <th>flag</th>\n",
              "      <th>user</th>\n",
              "      <th>text</th>\n",
              "    </tr>\n",
              "  </thead>\n",
              "  <tbody>\n",
              "    <tr>\n",
              "      <th>0</th>\n",
              "      <td>0</td>\n",
              "      <td>1467810369</td>\n",
              "      <td>Mon Apr 06 22:19:45 PDT 2009</td>\n",
              "      <td>NO_QUERY</td>\n",
              "      <td>_TheSpecialOne_</td>\n",
              "      <td>@switchfoot http://twitpic.com/2y1zl - Awww, t...</td>\n",
              "    </tr>\n",
              "    <tr>\n",
              "      <th>1</th>\n",
              "      <td>0</td>\n",
              "      <td>1467810672</td>\n",
              "      <td>Mon Apr 06 22:19:49 PDT 2009</td>\n",
              "      <td>NO_QUERY</td>\n",
              "      <td>scotthamilton</td>\n",
              "      <td>is upset that he can't update his Facebook by ...</td>\n",
              "    </tr>\n",
              "    <tr>\n",
              "      <th>2</th>\n",
              "      <td>0</td>\n",
              "      <td>1467810917</td>\n",
              "      <td>Mon Apr 06 22:19:53 PDT 2009</td>\n",
              "      <td>NO_QUERY</td>\n",
              "      <td>mattycus</td>\n",
              "      <td>@Kenichan I dived many times for the ball. Man...</td>\n",
              "    </tr>\n",
              "    <tr>\n",
              "      <th>3</th>\n",
              "      <td>0</td>\n",
              "      <td>1467811184</td>\n",
              "      <td>Mon Apr 06 22:19:57 PDT 2009</td>\n",
              "      <td>NO_QUERY</td>\n",
              "      <td>ElleCTF</td>\n",
              "      <td>my whole body feels itchy and like its on fire</td>\n",
              "    </tr>\n",
              "    <tr>\n",
              "      <th>4</th>\n",
              "      <td>0</td>\n",
              "      <td>1467811193</td>\n",
              "      <td>Mon Apr 06 22:19:57 PDT 2009</td>\n",
              "      <td>NO_QUERY</td>\n",
              "      <td>Karoli</td>\n",
              "      <td>@nationwideclass no, it's not behaving at all....</td>\n",
              "    </tr>\n",
              "  </tbody>\n",
              "</table>\n",
              "</div>\n",
              "    <div class=\"colab-df-buttons\">\n",
              "\n",
              "  <div class=\"colab-df-container\">\n",
              "    <button class=\"colab-df-convert\" onclick=\"convertToInteractive('df-d77cff8e-0cc6-4b78-aa7f-08391a240e2f')\"\n",
              "            title=\"Convert this dataframe to an interactive table.\"\n",
              "            style=\"display:none;\">\n",
              "\n",
              "  <svg xmlns=\"http://www.w3.org/2000/svg\" height=\"24px\" viewBox=\"0 -960 960 960\">\n",
              "    <path d=\"M120-120v-720h720v720H120Zm60-500h600v-160H180v160Zm220 220h160v-160H400v160Zm0 220h160v-160H400v160ZM180-400h160v-160H180v160Zm440 0h160v-160H620v160ZM180-180h160v-160H180v160Zm440 0h160v-160H620v160Z\"/>\n",
              "  </svg>\n",
              "    </button>\n",
              "\n",
              "  <style>\n",
              "    .colab-df-container {\n",
              "      display:flex;\n",
              "      gap: 12px;\n",
              "    }\n",
              "\n",
              "    .colab-df-convert {\n",
              "      background-color: #E8F0FE;\n",
              "      border: none;\n",
              "      border-radius: 50%;\n",
              "      cursor: pointer;\n",
              "      display: none;\n",
              "      fill: #1967D2;\n",
              "      height: 32px;\n",
              "      padding: 0 0 0 0;\n",
              "      width: 32px;\n",
              "    }\n",
              "\n",
              "    .colab-df-convert:hover {\n",
              "      background-color: #E2EBFA;\n",
              "      box-shadow: 0px 1px 2px rgba(60, 64, 67, 0.3), 0px 1px 3px 1px rgba(60, 64, 67, 0.15);\n",
              "      fill: #174EA6;\n",
              "    }\n",
              "\n",
              "    .colab-df-buttons div {\n",
              "      margin-bottom: 4px;\n",
              "    }\n",
              "\n",
              "    [theme=dark] .colab-df-convert {\n",
              "      background-color: #3B4455;\n",
              "      fill: #D2E3FC;\n",
              "    }\n",
              "\n",
              "    [theme=dark] .colab-df-convert:hover {\n",
              "      background-color: #434B5C;\n",
              "      box-shadow: 0px 1px 3px 1px rgba(0, 0, 0, 0.15);\n",
              "      filter: drop-shadow(0px 1px 2px rgba(0, 0, 0, 0.3));\n",
              "      fill: #FFFFFF;\n",
              "    }\n",
              "  </style>\n",
              "\n",
              "    <script>\n",
              "      const buttonEl =\n",
              "        document.querySelector('#df-d77cff8e-0cc6-4b78-aa7f-08391a240e2f button.colab-df-convert');\n",
              "      buttonEl.style.display =\n",
              "        google.colab.kernel.accessAllowed ? 'block' : 'none';\n",
              "\n",
              "      async function convertToInteractive(key) {\n",
              "        const element = document.querySelector('#df-d77cff8e-0cc6-4b78-aa7f-08391a240e2f');\n",
              "        const dataTable =\n",
              "          await google.colab.kernel.invokeFunction('convertToInteractive',\n",
              "                                                    [key], {});\n",
              "        if (!dataTable) return;\n",
              "\n",
              "        const docLinkHtml = 'Like what you see? Visit the ' +\n",
              "          '<a target=\"_blank\" href=https://colab.research.google.com/notebooks/data_table.ipynb>data table notebook</a>'\n",
              "          + ' to learn more about interactive tables.';\n",
              "        element.innerHTML = '';\n",
              "        dataTable['output_type'] = 'display_data';\n",
              "        await google.colab.output.renderOutput(dataTable, element);\n",
              "        const docLink = document.createElement('div');\n",
              "        docLink.innerHTML = docLinkHtml;\n",
              "        element.appendChild(docLink);\n",
              "      }\n",
              "    </script>\n",
              "  </div>\n",
              "\n",
              "\n",
              "<div id=\"df-ee3ffa39-315f-41fb-8951-f19d77435f91\">\n",
              "  <button class=\"colab-df-quickchart\" onclick=\"quickchart('df-ee3ffa39-315f-41fb-8951-f19d77435f91')\"\n",
              "            title=\"Suggest charts\"\n",
              "            style=\"display:none;\">\n",
              "\n",
              "<svg xmlns=\"http://www.w3.org/2000/svg\" height=\"24px\"viewBox=\"0 0 24 24\"\n",
              "     width=\"24px\">\n",
              "    <g>\n",
              "        <path d=\"M19 3H5c-1.1 0-2 .9-2 2v14c0 1.1.9 2 2 2h14c1.1 0 2-.9 2-2V5c0-1.1-.9-2-2-2zM9 17H7v-7h2v7zm4 0h-2V7h2v10zm4 0h-2v-4h2v4z\"/>\n",
              "    </g>\n",
              "</svg>\n",
              "  </button>\n",
              "\n",
              "<style>\n",
              "  .colab-df-quickchart {\n",
              "      --bg-color: #E8F0FE;\n",
              "      --fill-color: #1967D2;\n",
              "      --hover-bg-color: #E2EBFA;\n",
              "      --hover-fill-color: #174EA6;\n",
              "      --disabled-fill-color: #AAA;\n",
              "      --disabled-bg-color: #DDD;\n",
              "  }\n",
              "\n",
              "  [theme=dark] .colab-df-quickchart {\n",
              "      --bg-color: #3B4455;\n",
              "      --fill-color: #D2E3FC;\n",
              "      --hover-bg-color: #434B5C;\n",
              "      --hover-fill-color: #FFFFFF;\n",
              "      --disabled-bg-color: #3B4455;\n",
              "      --disabled-fill-color: #666;\n",
              "  }\n",
              "\n",
              "  .colab-df-quickchart {\n",
              "    background-color: var(--bg-color);\n",
              "    border: none;\n",
              "    border-radius: 50%;\n",
              "    cursor: pointer;\n",
              "    display: none;\n",
              "    fill: var(--fill-color);\n",
              "    height: 32px;\n",
              "    padding: 0;\n",
              "    width: 32px;\n",
              "  }\n",
              "\n",
              "  .colab-df-quickchart:hover {\n",
              "    background-color: var(--hover-bg-color);\n",
              "    box-shadow: 0 1px 2px rgba(60, 64, 67, 0.3), 0 1px 3px 1px rgba(60, 64, 67, 0.15);\n",
              "    fill: var(--button-hover-fill-color);\n",
              "  }\n",
              "\n",
              "  .colab-df-quickchart-complete:disabled,\n",
              "  .colab-df-quickchart-complete:disabled:hover {\n",
              "    background-color: var(--disabled-bg-color);\n",
              "    fill: var(--disabled-fill-color);\n",
              "    box-shadow: none;\n",
              "  }\n",
              "\n",
              "  .colab-df-spinner {\n",
              "    border: 2px solid var(--fill-color);\n",
              "    border-color: transparent;\n",
              "    border-bottom-color: var(--fill-color);\n",
              "    animation:\n",
              "      spin 1s steps(1) infinite;\n",
              "  }\n",
              "\n",
              "  @keyframes spin {\n",
              "    0% {\n",
              "      border-color: transparent;\n",
              "      border-bottom-color: var(--fill-color);\n",
              "      border-left-color: var(--fill-color);\n",
              "    }\n",
              "    20% {\n",
              "      border-color: transparent;\n",
              "      border-left-color: var(--fill-color);\n",
              "      border-top-color: var(--fill-color);\n",
              "    }\n",
              "    30% {\n",
              "      border-color: transparent;\n",
              "      border-left-color: var(--fill-color);\n",
              "      border-top-color: var(--fill-color);\n",
              "      border-right-color: var(--fill-color);\n",
              "    }\n",
              "    40% {\n",
              "      border-color: transparent;\n",
              "      border-right-color: var(--fill-color);\n",
              "      border-top-color: var(--fill-color);\n",
              "    }\n",
              "    60% {\n",
              "      border-color: transparent;\n",
              "      border-right-color: var(--fill-color);\n",
              "    }\n",
              "    80% {\n",
              "      border-color: transparent;\n",
              "      border-right-color: var(--fill-color);\n",
              "      border-bottom-color: var(--fill-color);\n",
              "    }\n",
              "    90% {\n",
              "      border-color: transparent;\n",
              "      border-bottom-color: var(--fill-color);\n",
              "    }\n",
              "  }\n",
              "</style>\n",
              "\n",
              "  <script>\n",
              "    async function quickchart(key) {\n",
              "      const quickchartButtonEl =\n",
              "        document.querySelector('#' + key + ' button');\n",
              "      quickchartButtonEl.disabled = true;  // To prevent multiple clicks.\n",
              "      quickchartButtonEl.classList.add('colab-df-spinner');\n",
              "      try {\n",
              "        const charts = await google.colab.kernel.invokeFunction(\n",
              "            'suggestCharts', [key], {});\n",
              "      } catch (error) {\n",
              "        console.error('Error during call to suggestCharts:', error);\n",
              "      }\n",
              "      quickchartButtonEl.classList.remove('colab-df-spinner');\n",
              "      quickchartButtonEl.classList.add('colab-df-quickchart-complete');\n",
              "    }\n",
              "    (() => {\n",
              "      let quickchartButtonEl =\n",
              "        document.querySelector('#df-ee3ffa39-315f-41fb-8951-f19d77435f91 button');\n",
              "      quickchartButtonEl.style.display =\n",
              "        google.colab.kernel.accessAllowed ? 'block' : 'none';\n",
              "    })();\n",
              "  </script>\n",
              "</div>\n",
              "\n",
              "    </div>\n",
              "  </div>\n"
            ],
            "application/vnd.google.colaboratory.intrinsic+json": {
              "type": "dataframe",
              "variable_name": "twitter_data"
            }
          },
          "metadata": {},
          "execution_count": 25
        }
      ]
    },
    {
      "cell_type": "code",
      "source": [
        "# Check for missing data\n",
        "missing_data = twitter_data.isnull().sum()\n",
        "print(missing_data)\n",
        "# Remove rows with any missing data\n",
        "twitter_data_clean = twitter_data.dropna()\n",
        "\n"
      ],
      "metadata": {
        "colab": {
          "base_uri": "https://localhost:8080/"
        },
        "id": "gB4vCwaVRZPk",
        "outputId": "6223a561-a132-4a67-b8d5-f2db7663768a"
      },
      "execution_count": null,
      "outputs": [
        {
          "output_type": "stream",
          "name": "stdout",
          "text": [
            "target    0\n",
            "id        0\n",
            "date      0\n",
            "flag      0\n",
            "user      0\n",
            "text      0\n",
            "dtype: int64\n"
          ]
        }
      ]
    },
    {
      "cell_type": "code",
      "source": [
        "#checking the distribution of the values , if the distribution is not uniform then we need to do upscalling and downscaling\n",
        "twitter_data['target'].value_counts()"
      ],
      "metadata": {
        "colab": {
          "base_uri": "https://localhost:8080/"
        },
        "id": "3YhKNAYhSDPM",
        "outputId": "a6c7f16e-6e28-4f74-bc68-fc472460fe9d"
      },
      "execution_count": null,
      "outputs": [
        {
          "output_type": "execute_result",
          "data": {
            "text/plain": [
              "target\n",
              "0    800000\n",
              "4    800000\n",
              "Name: count, dtype: int64"
            ]
          },
          "metadata": {},
          "execution_count": 29
        }
      ]
    },
    {
      "cell_type": "markdown",
      "source": [
        "Upscaling and downscaling, also known as oversampling and undersampling respectively, are techniques used to address class imbalance in datasets where one class (or target variable category) is significantly underrepresented compared to others. Here’s how you can perform these operations using Python:\n",
        "\n",
        "### Upscaling (Oversampling)\n",
        "\n",
        "Upscaling involves increasing the number of instances in the minority class (less represented class) to balance the dataset.\n",
        "\n",
        "#### Using `imbalanced-learn` (imblearn) Library\n",
        "\n",
        "1. **Install `imbalanced-learn`**: If you haven't already installed it, you can do so using pip:\n",
        "   ```bash\n",
        "   pip install imbalanced-learn\n",
        "   ```\n",
        "\n",
        "2. **Perform Upscaling**:\n",
        "\n",
        "   - **Random Oversampling**: Randomly duplicates examples in the minority class.\n",
        "\n",
        "     ```python\n",
        "     from imblearn.over_sampling import RandomOverSampler\n",
        "\n",
        "     # Assuming twitter_data is your DataFrame\n",
        "     X = twitter_data.drop('target', axis=1)\n",
        "     y = twitter_data['target']\n",
        "\n",
        "     oversampler = RandomOverSampler(random_state=42)\n",
        "     X_resampled, y_resampled = oversampler.fit_resample(X, y)\n",
        "\n",
        "     # Now X_resampled and y_resampled contain the upsampled data\n",
        "     ```\n",
        "\n",
        "   - **SMOTE (Synthetic Minority Over-sampling Technique)**: Generates synthetic samples by interpolating between existing minority class instances.\n",
        "\n",
        "     ```python\n",
        "     from imblearn.over_sampling import SMOTE\n",
        "\n",
        "     smote = SMOTE(random_state=42)\n",
        "     X_resampled, y_resampled = smote.fit_resample(X, y)\n",
        "     ```\n",
        "\n",
        "   - **Other Techniques**: `imbalanced-learn` offers various other oversampling techniques like ADASYN, Borderline-SMOTE, etc., each with its own advantages depending on the dataset.\n",
        "\n",
        "### Downscaling (Undersampling)\n",
        "\n",
        "Downscaling involves reducing the number of instances in the majority class to balance the dataset.\n",
        "\n",
        "#### Using `imbalanced-learn` (imblearn) Library\n",
        "\n",
        "1. **Perform Downsampling**:\n",
        "\n",
        "   - **Random Undersampling**: Randomly removes examples from the majority class.\n",
        "\n",
        "     ```python\n",
        "     from imblearn.under_sampling import RandomUnderSampler\n",
        "\n",
        "     undersampler = RandomUnderSampler(random_state=42)\n",
        "     X_resampled, y_resampled = undersampler.fit_resample(X, y)\n",
        "     ```\n",
        "\n",
        "   - **NearMiss**: Selects samples from the majority class whose average distance to the three closest instances of the minority class is smallest.\n",
        "\n",
        "     ```python\n",
        "     from imblearn.under_sampling import NearMiss\n",
        "\n",
        "     nearmiss = NearMiss()\n",
        "     X_resampled, y_resampled = nearmiss.fit_resample(X, y)\n",
        "     ```\n",
        "\n",
        "   - **ClusterCentroids**: Reduces the number of samples by replacing a cluster of samples from the majority class with the centroid of the cluster.\n",
        "\n",
        "     ```python\n",
        "     from imblearn.under_sampling import ClusterCentroids\n",
        "\n",
        "     cc = ClusterCentroids(random_state=42)\n",
        "     X_resampled, y_resampled = cc.fit_resample(X, y)\n",
        "     ```\n",
        "\n",
        "### Choosing the Right Technique\n",
        "\n",
        "- **Considerations**: The choice between oversampling and undersampling depends on the dataset size, the nature of the problem, and the computational resources available.\n",
        "- **Evaluation**: Always evaluate the performance of your model using cross-validation or other appropriate methods after applying these techniques to ensure they improve model performance.\n",
        "\n",
        "By using these techniques from the `imbalanced-learn` library, you can effectively handle imbalanced datasets by either upscaling (oversampling) or downscaling (undersampling) to achieve a more uniform distribution of classes in your data. Adjust the technique based on your specific dataset characteristics and problem requirements."
      ],
      "metadata": {
        "id": "QGX7G0cXTT-h"
      }
    },
    {
      "cell_type": "code",
      "source": [
        "#Here we are replacing the 4's with 1's\n",
        "twitter_data.replace({'target':{4:1}}, inplace=True)\n",
        "twitter_data['target'].value_counts()"
      ],
      "metadata": {
        "colab": {
          "base_uri": "https://localhost:8080/"
        },
        "id": "zkRq7atuSnE1",
        "outputId": "9cfb553a-a29c-41d2-8626-b8d1d20d4bd8"
      },
      "execution_count": null,
      "outputs": [
        {
          "output_type": "execute_result",
          "data": {
            "text/plain": [
              "target\n",
              "0    800000\n",
              "1    800000\n",
              "Name: count, dtype: int64"
            ]
          },
          "metadata": {},
          "execution_count": 34
        }
      ]
    },
    {
      "cell_type": "markdown",
      "source": [
        "Now we are going to perform stemming , which means reducing the word to its root word\n",
        "for example\n",
        "actor, actress,acting are reduced to act\n"
      ],
      "metadata": {
        "id": "jtEVciFDau80"
      }
    },
    {
      "cell_type": "code",
      "source": [
        "#intialising the stemmer\n",
        "porter_stem= PorterStemmer()"
      ],
      "metadata": {
        "id": "lkIRMjgpT7dw"
      },
      "execution_count": null,
      "outputs": []
    },
    {
      "cell_type": "code",
      "source": [
        "#Here we are defining the stemming function\n",
        "\n",
        "def stemming(content):\n",
        "  stemmed_content= re.sub('[^a-zA-Z]',' ',content)\n",
        "  stemmed_content= stemmed_content.lower()\n",
        "  stemmed_content= stemmed_content.split()\n",
        "  stemmed_content= [porter_stem.stem(word) for word in stemmed_content if not word in stopwords.words('english')]\n",
        "  stemmed_content= ' '.join(stemmed_content)\n",
        "  return stemmed_content"
      ],
      "metadata": {
        "id": "nXZGSS3HbKCK"
      },
      "execution_count": null,
      "outputs": []
    },
    {
      "cell_type": "code",
      "source": [
        "twitter_data['stemmed data']= twitter_data['text'].apply(stemming)"
      ],
      "metadata": {
        "id": "XGMnQjMLdJH1"
      },
      "execution_count": null,
      "outputs": []
    },
    {
      "cell_type": "code",
      "source": [
        "twitter_data.head()"
      ],
      "metadata": {
        "colab": {
          "base_uri": "https://localhost:8080/",
          "height": 313
        },
        "id": "iwMMR0afdMwZ",
        "outputId": "538bff7c-d537-4b4f-ae2d-a40f2e31c0cc"
      },
      "execution_count": null,
      "outputs": [
        {
          "output_type": "execute_result",
          "data": {
            "text/plain": [
              "   target          id                          date      flag  \\\n",
              "0       0  1467810369  Mon Apr 06 22:19:45 PDT 2009  NO_QUERY   \n",
              "1       0  1467810672  Mon Apr 06 22:19:49 PDT 2009  NO_QUERY   \n",
              "2       0  1467810917  Mon Apr 06 22:19:53 PDT 2009  NO_QUERY   \n",
              "3       0  1467811184  Mon Apr 06 22:19:57 PDT 2009  NO_QUERY   \n",
              "4       0  1467811193  Mon Apr 06 22:19:57 PDT 2009  NO_QUERY   \n",
              "\n",
              "              user                                               text  \\\n",
              "0  _TheSpecialOne_  @switchfoot http://twitpic.com/2y1zl - Awww, t...   \n",
              "1    scotthamilton  is upset that he can't update his Facebook by ...   \n",
              "2         mattycus  @Kenichan I dived many times for the ball. Man...   \n",
              "3          ElleCTF    my whole body feels itchy and like its on fire    \n",
              "4           Karoli  @nationwideclass no, it's not behaving at all....   \n",
              "\n",
              "                                        stemmed data  \n",
              "0  switchfoot http twitpic com zl awww bummer sho...  \n",
              "1  upset updat facebook text might cri result sch...  \n",
              "2  kenichan dive mani time ball manag save rest g...  \n",
              "3                    whole bodi feel itchi like fire  \n",
              "4                      nationwideclass behav mad see  "
            ],
            "text/html": [
              "\n",
              "  <div id=\"df-7e9b542f-13c0-4446-bcc6-201850b62df6\" class=\"colab-df-container\">\n",
              "    <div>\n",
              "<style scoped>\n",
              "    .dataframe tbody tr th:only-of-type {\n",
              "        vertical-align: middle;\n",
              "    }\n",
              "\n",
              "    .dataframe tbody tr th {\n",
              "        vertical-align: top;\n",
              "    }\n",
              "\n",
              "    .dataframe thead th {\n",
              "        text-align: right;\n",
              "    }\n",
              "</style>\n",
              "<table border=\"1\" class=\"dataframe\">\n",
              "  <thead>\n",
              "    <tr style=\"text-align: right;\">\n",
              "      <th></th>\n",
              "      <th>target</th>\n",
              "      <th>id</th>\n",
              "      <th>date</th>\n",
              "      <th>flag</th>\n",
              "      <th>user</th>\n",
              "      <th>text</th>\n",
              "      <th>stemmed data</th>\n",
              "    </tr>\n",
              "  </thead>\n",
              "  <tbody>\n",
              "    <tr>\n",
              "      <th>0</th>\n",
              "      <td>0</td>\n",
              "      <td>1467810369</td>\n",
              "      <td>Mon Apr 06 22:19:45 PDT 2009</td>\n",
              "      <td>NO_QUERY</td>\n",
              "      <td>_TheSpecialOne_</td>\n",
              "      <td>@switchfoot http://twitpic.com/2y1zl - Awww, t...</td>\n",
              "      <td>switchfoot http twitpic com zl awww bummer sho...</td>\n",
              "    </tr>\n",
              "    <tr>\n",
              "      <th>1</th>\n",
              "      <td>0</td>\n",
              "      <td>1467810672</td>\n",
              "      <td>Mon Apr 06 22:19:49 PDT 2009</td>\n",
              "      <td>NO_QUERY</td>\n",
              "      <td>scotthamilton</td>\n",
              "      <td>is upset that he can't update his Facebook by ...</td>\n",
              "      <td>upset updat facebook text might cri result sch...</td>\n",
              "    </tr>\n",
              "    <tr>\n",
              "      <th>2</th>\n",
              "      <td>0</td>\n",
              "      <td>1467810917</td>\n",
              "      <td>Mon Apr 06 22:19:53 PDT 2009</td>\n",
              "      <td>NO_QUERY</td>\n",
              "      <td>mattycus</td>\n",
              "      <td>@Kenichan I dived many times for the ball. Man...</td>\n",
              "      <td>kenichan dive mani time ball manag save rest g...</td>\n",
              "    </tr>\n",
              "    <tr>\n",
              "      <th>3</th>\n",
              "      <td>0</td>\n",
              "      <td>1467811184</td>\n",
              "      <td>Mon Apr 06 22:19:57 PDT 2009</td>\n",
              "      <td>NO_QUERY</td>\n",
              "      <td>ElleCTF</td>\n",
              "      <td>my whole body feels itchy and like its on fire</td>\n",
              "      <td>whole bodi feel itchi like fire</td>\n",
              "    </tr>\n",
              "    <tr>\n",
              "      <th>4</th>\n",
              "      <td>0</td>\n",
              "      <td>1467811193</td>\n",
              "      <td>Mon Apr 06 22:19:57 PDT 2009</td>\n",
              "      <td>NO_QUERY</td>\n",
              "      <td>Karoli</td>\n",
              "      <td>@nationwideclass no, it's not behaving at all....</td>\n",
              "      <td>nationwideclass behav mad see</td>\n",
              "    </tr>\n",
              "  </tbody>\n",
              "</table>\n",
              "</div>\n",
              "    <div class=\"colab-df-buttons\">\n",
              "\n",
              "  <div class=\"colab-df-container\">\n",
              "    <button class=\"colab-df-convert\" onclick=\"convertToInteractive('df-7e9b542f-13c0-4446-bcc6-201850b62df6')\"\n",
              "            title=\"Convert this dataframe to an interactive table.\"\n",
              "            style=\"display:none;\">\n",
              "\n",
              "  <svg xmlns=\"http://www.w3.org/2000/svg\" height=\"24px\" viewBox=\"0 -960 960 960\">\n",
              "    <path d=\"M120-120v-720h720v720H120Zm60-500h600v-160H180v160Zm220 220h160v-160H400v160Zm0 220h160v-160H400v160ZM180-400h160v-160H180v160Zm440 0h160v-160H620v160ZM180-180h160v-160H180v160Zm440 0h160v-160H620v160Z\"/>\n",
              "  </svg>\n",
              "    </button>\n",
              "\n",
              "  <style>\n",
              "    .colab-df-container {\n",
              "      display:flex;\n",
              "      gap: 12px;\n",
              "    }\n",
              "\n",
              "    .colab-df-convert {\n",
              "      background-color: #E8F0FE;\n",
              "      border: none;\n",
              "      border-radius: 50%;\n",
              "      cursor: pointer;\n",
              "      display: none;\n",
              "      fill: #1967D2;\n",
              "      height: 32px;\n",
              "      padding: 0 0 0 0;\n",
              "      width: 32px;\n",
              "    }\n",
              "\n",
              "    .colab-df-convert:hover {\n",
              "      background-color: #E2EBFA;\n",
              "      box-shadow: 0px 1px 2px rgba(60, 64, 67, 0.3), 0px 1px 3px 1px rgba(60, 64, 67, 0.15);\n",
              "      fill: #174EA6;\n",
              "    }\n",
              "\n",
              "    .colab-df-buttons div {\n",
              "      margin-bottom: 4px;\n",
              "    }\n",
              "\n",
              "    [theme=dark] .colab-df-convert {\n",
              "      background-color: #3B4455;\n",
              "      fill: #D2E3FC;\n",
              "    }\n",
              "\n",
              "    [theme=dark] .colab-df-convert:hover {\n",
              "      background-color: #434B5C;\n",
              "      box-shadow: 0px 1px 3px 1px rgba(0, 0, 0, 0.15);\n",
              "      filter: drop-shadow(0px 1px 2px rgba(0, 0, 0, 0.3));\n",
              "      fill: #FFFFFF;\n",
              "    }\n",
              "  </style>\n",
              "\n",
              "    <script>\n",
              "      const buttonEl =\n",
              "        document.querySelector('#df-7e9b542f-13c0-4446-bcc6-201850b62df6 button.colab-df-convert');\n",
              "      buttonEl.style.display =\n",
              "        google.colab.kernel.accessAllowed ? 'block' : 'none';\n",
              "\n",
              "      async function convertToInteractive(key) {\n",
              "        const element = document.querySelector('#df-7e9b542f-13c0-4446-bcc6-201850b62df6');\n",
              "        const dataTable =\n",
              "          await google.colab.kernel.invokeFunction('convertToInteractive',\n",
              "                                                    [key], {});\n",
              "        if (!dataTable) return;\n",
              "\n",
              "        const docLinkHtml = 'Like what you see? Visit the ' +\n",
              "          '<a target=\"_blank\" href=https://colab.research.google.com/notebooks/data_table.ipynb>data table notebook</a>'\n",
              "          + ' to learn more about interactive tables.';\n",
              "        element.innerHTML = '';\n",
              "        dataTable['output_type'] = 'display_data';\n",
              "        await google.colab.output.renderOutput(dataTable, element);\n",
              "        const docLink = document.createElement('div');\n",
              "        docLink.innerHTML = docLinkHtml;\n",
              "        element.appendChild(docLink);\n",
              "      }\n",
              "    </script>\n",
              "  </div>\n",
              "\n",
              "\n",
              "<div id=\"df-b90b65c0-2e03-419d-9785-da86fa900a6f\">\n",
              "  <button class=\"colab-df-quickchart\" onclick=\"quickchart('df-b90b65c0-2e03-419d-9785-da86fa900a6f')\"\n",
              "            title=\"Suggest charts\"\n",
              "            style=\"display:none;\">\n",
              "\n",
              "<svg xmlns=\"http://www.w3.org/2000/svg\" height=\"24px\"viewBox=\"0 0 24 24\"\n",
              "     width=\"24px\">\n",
              "    <g>\n",
              "        <path d=\"M19 3H5c-1.1 0-2 .9-2 2v14c0 1.1.9 2 2 2h14c1.1 0 2-.9 2-2V5c0-1.1-.9-2-2-2zM9 17H7v-7h2v7zm4 0h-2V7h2v10zm4 0h-2v-4h2v4z\"/>\n",
              "    </g>\n",
              "</svg>\n",
              "  </button>\n",
              "\n",
              "<style>\n",
              "  .colab-df-quickchart {\n",
              "      --bg-color: #E8F0FE;\n",
              "      --fill-color: #1967D2;\n",
              "      --hover-bg-color: #E2EBFA;\n",
              "      --hover-fill-color: #174EA6;\n",
              "      --disabled-fill-color: #AAA;\n",
              "      --disabled-bg-color: #DDD;\n",
              "  }\n",
              "\n",
              "  [theme=dark] .colab-df-quickchart {\n",
              "      --bg-color: #3B4455;\n",
              "      --fill-color: #D2E3FC;\n",
              "      --hover-bg-color: #434B5C;\n",
              "      --hover-fill-color: #FFFFFF;\n",
              "      --disabled-bg-color: #3B4455;\n",
              "      --disabled-fill-color: #666;\n",
              "  }\n",
              "\n",
              "  .colab-df-quickchart {\n",
              "    background-color: var(--bg-color);\n",
              "    border: none;\n",
              "    border-radius: 50%;\n",
              "    cursor: pointer;\n",
              "    display: none;\n",
              "    fill: var(--fill-color);\n",
              "    height: 32px;\n",
              "    padding: 0;\n",
              "    width: 32px;\n",
              "  }\n",
              "\n",
              "  .colab-df-quickchart:hover {\n",
              "    background-color: var(--hover-bg-color);\n",
              "    box-shadow: 0 1px 2px rgba(60, 64, 67, 0.3), 0 1px 3px 1px rgba(60, 64, 67, 0.15);\n",
              "    fill: var(--button-hover-fill-color);\n",
              "  }\n",
              "\n",
              "  .colab-df-quickchart-complete:disabled,\n",
              "  .colab-df-quickchart-complete:disabled:hover {\n",
              "    background-color: var(--disabled-bg-color);\n",
              "    fill: var(--disabled-fill-color);\n",
              "    box-shadow: none;\n",
              "  }\n",
              "\n",
              "  .colab-df-spinner {\n",
              "    border: 2px solid var(--fill-color);\n",
              "    border-color: transparent;\n",
              "    border-bottom-color: var(--fill-color);\n",
              "    animation:\n",
              "      spin 1s steps(1) infinite;\n",
              "  }\n",
              "\n",
              "  @keyframes spin {\n",
              "    0% {\n",
              "      border-color: transparent;\n",
              "      border-bottom-color: var(--fill-color);\n",
              "      border-left-color: var(--fill-color);\n",
              "    }\n",
              "    20% {\n",
              "      border-color: transparent;\n",
              "      border-left-color: var(--fill-color);\n",
              "      border-top-color: var(--fill-color);\n",
              "    }\n",
              "    30% {\n",
              "      border-color: transparent;\n",
              "      border-left-color: var(--fill-color);\n",
              "      border-top-color: var(--fill-color);\n",
              "      border-right-color: var(--fill-color);\n",
              "    }\n",
              "    40% {\n",
              "      border-color: transparent;\n",
              "      border-right-color: var(--fill-color);\n",
              "      border-top-color: var(--fill-color);\n",
              "    }\n",
              "    60% {\n",
              "      border-color: transparent;\n",
              "      border-right-color: var(--fill-color);\n",
              "    }\n",
              "    80% {\n",
              "      border-color: transparent;\n",
              "      border-right-color: var(--fill-color);\n",
              "      border-bottom-color: var(--fill-color);\n",
              "    }\n",
              "    90% {\n",
              "      border-color: transparent;\n",
              "      border-bottom-color: var(--fill-color);\n",
              "    }\n",
              "  }\n",
              "</style>\n",
              "\n",
              "  <script>\n",
              "    async function quickchart(key) {\n",
              "      const quickchartButtonEl =\n",
              "        document.querySelector('#' + key + ' button');\n",
              "      quickchartButtonEl.disabled = true;  // To prevent multiple clicks.\n",
              "      quickchartButtonEl.classList.add('colab-df-spinner');\n",
              "      try {\n",
              "        const charts = await google.colab.kernel.invokeFunction(\n",
              "            'suggestCharts', [key], {});\n",
              "      } catch (error) {\n",
              "        console.error('Error during call to suggestCharts:', error);\n",
              "      }\n",
              "      quickchartButtonEl.classList.remove('colab-df-spinner');\n",
              "      quickchartButtonEl.classList.add('colab-df-quickchart-complete');\n",
              "    }\n",
              "    (() => {\n",
              "      let quickchartButtonEl =\n",
              "        document.querySelector('#df-b90b65c0-2e03-419d-9785-da86fa900a6f button');\n",
              "      quickchartButtonEl.style.display =\n",
              "        google.colab.kernel.accessAllowed ? 'block' : 'none';\n",
              "    })();\n",
              "  </script>\n",
              "</div>\n",
              "\n",
              "    </div>\n",
              "  </div>\n"
            ],
            "application/vnd.google.colaboratory.intrinsic+json": {
              "type": "dataframe",
              "variable_name": "twitter_data"
            }
          },
          "metadata": {},
          "execution_count": 41
        }
      ]
    },
    {
      "cell_type": "code",
      "source": [
        "X = twitter_data['stemmed data']\n",
        "Y = twitter_data['target'].values"
      ],
      "metadata": {
        "id": "aoJq6VgJdXBg"
      },
      "execution_count": null,
      "outputs": []
    },
    {
      "cell_type": "code",
      "source": [
        "print(X)"
      ],
      "metadata": {
        "colab": {
          "base_uri": "https://localhost:8080/"
        },
        "id": "SngnTTLdjLCc",
        "outputId": "12bba531-558f-4a8b-d677-a5cd384ba9c4"
      },
      "execution_count": null,
      "outputs": [
        {
          "output_type": "stream",
          "name": "stdout",
          "text": [
            "0          switchfoot http twitpic com zl awww bummer sho...\n",
            "1          upset updat facebook text might cri result sch...\n",
            "2          kenichan dive mani time ball manag save rest g...\n",
            "3                            whole bodi feel itchi like fire\n",
            "4                              nationwideclass behav mad see\n",
            "                                 ...                        \n",
            "1599995                           woke school best feel ever\n",
            "1599996    thewdb com cool hear old walt interview http b...\n",
            "1599997                         readi mojo makeov ask detail\n",
            "1599998    happi th birthday boo alll time tupac amaru sh...\n",
            "1599999    happi charitytuesday thenspcc sparkschar speak...\n",
            "Name: stemmed data, Length: 1600000, dtype: object\n"
          ]
        }
      ]
    },
    {
      "cell_type": "code",
      "source": [
        "print(Y)"
      ],
      "metadata": {
        "colab": {
          "base_uri": "https://localhost:8080/"
        },
        "id": "ESXoQwhOjMW4",
        "outputId": "23920d19-9fbc-422f-c510-735fabb2f96a"
      },
      "execution_count": null,
      "outputs": [
        {
          "output_type": "stream",
          "name": "stdout",
          "text": [
            "[0 0 0 ... 1 1 1]\n"
          ]
        }
      ]
    },
    {
      "cell_type": "code",
      "source": [
        "#here we are giving stratify = Y , beacuse we need to get the equal dstribution of data into training and testing data which prevents that getting all the postivie data to testing\n",
        "X_train ,X_test ,Y_train ,Y_test = train_test_split(X,Y , test_size=0.2 , stratify= Y  , random_state=2)\n"
      ],
      "metadata": {
        "id": "TZi2q0VmjNZn"
      },
      "execution_count": null,
      "outputs": []
    },
    {
      "cell_type": "code",
      "source": [
        "print(X.shape,X_train.shape,X_test.shape)\n",
        "print(Y.shape,Y_train.shape,Y_test.shape)"
      ],
      "metadata": {
        "colab": {
          "base_uri": "https://localhost:8080/"
        },
        "id": "wyJ-bGRoj9t7",
        "outputId": "e5848a22-e8d4-4e55-e5d4-fcb1b7606a6c"
      },
      "execution_count": null,
      "outputs": [
        {
          "output_type": "stream",
          "name": "stdout",
          "text": [
            "(1600000,) (1280000,) (320000,)\n",
            "(1600000,) (1280000,) (320000,)\n"
          ]
        }
      ]
    },
    {
      "cell_type": "markdown",
      "source": [
        "Converting the text data into numberical so that machine learning model can understand it"
      ],
      "metadata": {
        "id": "kNOVzxxBt0iG"
      }
    },
    {
      "cell_type": "code",
      "source": [
        "vectorizer= TfidfVectorizer()\n",
        "\n",
        "X_train = vectorizer.fit_transform(X_train)\n",
        "X_test = vectorizer.transform(X_test)\n"
      ],
      "metadata": {
        "id": "Vb9T6Ma3kZdy"
      },
      "execution_count": null,
      "outputs": []
    },
    {
      "cell_type": "code",
      "source": [
        "# print(X_train)\n",
        "# print(X_test)\n",
        "print(Y_test)\n"
      ],
      "metadata": {
        "colab": {
          "base_uri": "https://localhost:8080/"
        },
        "id": "3GXoZF5vmU7o",
        "outputId": "c291cca8-5671-4c5e-f81a-3bdc49e63b43"
      },
      "execution_count": null,
      "outputs": [
        {
          "output_type": "stream",
          "name": "stdout",
          "text": [
            "[0 1 0 ... 1 0 1]\n"
          ]
        }
      ]
    },
    {
      "cell_type": "markdown",
      "source": [
        "Intialising the model for prediction and fitting the data into the model"
      ],
      "metadata": {
        "id": "4V0BUCQ9t8p2"
      }
    },
    {
      "cell_type": "code",
      "source": [
        "logistic_regression_model= LogisticRegression( max_iter=1000)\n",
        "logistic_regression_model.fit(X_train,Y_train)\n"
      ],
      "metadata": {
        "colab": {
          "base_uri": "https://localhost:8080/",
          "height": 94
        },
        "id": "_1t5n6YjqsNi",
        "outputId": "0fa49d63-777e-48d1-b2a0-d3b4ade3fa65"
      },
      "execution_count": null,
      "outputs": [
        {
          "output_type": "execute_result",
          "data": {
            "text/plain": [
              "LogisticRegression(max_iter=1000)"
            ],
            "text/html": [
              "<style>#sk-container-id-4 {color: black;background-color: white;}#sk-container-id-4 pre{padding: 0;}#sk-container-id-4 div.sk-toggleable {background-color: white;}#sk-container-id-4 label.sk-toggleable__label {cursor: pointer;display: block;width: 100%;margin-bottom: 0;padding: 0.3em;box-sizing: border-box;text-align: center;}#sk-container-id-4 label.sk-toggleable__label-arrow:before {content: \"▸\";float: left;margin-right: 0.25em;color: #696969;}#sk-container-id-4 label.sk-toggleable__label-arrow:hover:before {color: black;}#sk-container-id-4 div.sk-estimator:hover label.sk-toggleable__label-arrow:before {color: black;}#sk-container-id-4 div.sk-toggleable__content {max-height: 0;max-width: 0;overflow: hidden;text-align: left;background-color: #f0f8ff;}#sk-container-id-4 div.sk-toggleable__content pre {margin: 0.2em;color: black;border-radius: 0.25em;background-color: #f0f8ff;}#sk-container-id-4 input.sk-toggleable__control:checked~div.sk-toggleable__content {max-height: 200px;max-width: 100%;overflow: auto;}#sk-container-id-4 input.sk-toggleable__control:checked~label.sk-toggleable__label-arrow:before {content: \"▾\";}#sk-container-id-4 div.sk-estimator input.sk-toggleable__control:checked~label.sk-toggleable__label {background-color: #d4ebff;}#sk-container-id-4 div.sk-label input.sk-toggleable__control:checked~label.sk-toggleable__label {background-color: #d4ebff;}#sk-container-id-4 input.sk-hidden--visually {border: 0;clip: rect(1px 1px 1px 1px);clip: rect(1px, 1px, 1px, 1px);height: 1px;margin: -1px;overflow: hidden;padding: 0;position: absolute;width: 1px;}#sk-container-id-4 div.sk-estimator {font-family: monospace;background-color: #f0f8ff;border: 1px dotted black;border-radius: 0.25em;box-sizing: border-box;margin-bottom: 0.5em;}#sk-container-id-4 div.sk-estimator:hover {background-color: #d4ebff;}#sk-container-id-4 div.sk-parallel-item::after {content: \"\";width: 100%;border-bottom: 1px solid gray;flex-grow: 1;}#sk-container-id-4 div.sk-label:hover label.sk-toggleable__label {background-color: #d4ebff;}#sk-container-id-4 div.sk-serial::before {content: \"\";position: absolute;border-left: 1px solid gray;box-sizing: border-box;top: 0;bottom: 0;left: 50%;z-index: 0;}#sk-container-id-4 div.sk-serial {display: flex;flex-direction: column;align-items: center;background-color: white;padding-right: 0.2em;padding-left: 0.2em;position: relative;}#sk-container-id-4 div.sk-item {position: relative;z-index: 1;}#sk-container-id-4 div.sk-parallel {display: flex;align-items: stretch;justify-content: center;background-color: white;position: relative;}#sk-container-id-4 div.sk-item::before, #sk-container-id-4 div.sk-parallel-item::before {content: \"\";position: absolute;border-left: 1px solid gray;box-sizing: border-box;top: 0;bottom: 0;left: 50%;z-index: -1;}#sk-container-id-4 div.sk-parallel-item {display: flex;flex-direction: column;z-index: 1;position: relative;background-color: white;}#sk-container-id-4 div.sk-parallel-item:first-child::after {align-self: flex-end;width: 50%;}#sk-container-id-4 div.sk-parallel-item:last-child::after {align-self: flex-start;width: 50%;}#sk-container-id-4 div.sk-parallel-item:only-child::after {width: 0;}#sk-container-id-4 div.sk-dashed-wrapped {border: 1px dashed gray;margin: 0 0.4em 0.5em 0.4em;box-sizing: border-box;padding-bottom: 0.4em;background-color: white;}#sk-container-id-4 div.sk-label label {font-family: monospace;font-weight: bold;display: inline-block;line-height: 1.2em;}#sk-container-id-4 div.sk-label-container {text-align: center;}#sk-container-id-4 div.sk-container {/* jupyter's `normalize.less` sets `[hidden] { display: none; }` but bootstrap.min.css set `[hidden] { display: none !important; }` so we also need the `!important` here to be able to override the default hidden behavior on the sphinx rendered scikit-learn.org. See: https://github.com/scikit-learn/scikit-learn/issues/21755 */display: inline-block !important;position: relative;}#sk-container-id-4 div.sk-text-repr-fallback {display: none;}</style><div id=\"sk-container-id-4\" class=\"sk-top-container\"><div class=\"sk-text-repr-fallback\"><pre>LogisticRegression(max_iter=1000)</pre><b>In a Jupyter environment, please rerun this cell to show the HTML representation or trust the notebook. <br />On GitHub, the HTML representation is unable to render, please try loading this page with nbviewer.org.</b></div><div class=\"sk-container\" hidden><div class=\"sk-item\"><div class=\"sk-estimator sk-toggleable\"><input class=\"sk-toggleable__control sk-hidden--visually\" id=\"sk-estimator-id-4\" type=\"checkbox\" checked><label for=\"sk-estimator-id-4\" class=\"sk-toggleable__label sk-toggleable__label-arrow\">LogisticRegression</label><div class=\"sk-toggleable__content\"><pre>LogisticRegression(max_iter=1000)</pre></div></div></div></div></div>"
            ]
          },
          "metadata": {},
          "execution_count": 112
        }
      ]
    },
    {
      "cell_type": "markdown",
      "source": [
        "Here we are checking the accuracy of the data using testing data"
      ],
      "metadata": {
        "id": "vNb3-yB5uD7w"
      }
    },
    {
      "cell_type": "code",
      "source": [
        "X_test_prediction = logistic_regression_model.predict(X_test)\n",
        "test_data_accuracy = accuracy_score(X_test_prediction,Y_test)\n",
        "print('Accuracy score of test data : ', test_data_accuracy)"
      ],
      "metadata": {
        "colab": {
          "base_uri": "https://localhost:8080/"
        },
        "id": "tDXpcwBysUof",
        "outputId": "d63ade80-e70c-4873-9f82-aed35373f1e7"
      },
      "execution_count": null,
      "outputs": [
        {
          "output_type": "stream",
          "name": "stdout",
          "text": [
            "Accuracy score of test data :  0.7780375\n"
          ]
        }
      ]
    },
    {
      "cell_type": "markdown",
      "source": [
        "Now we are going to save the model so, that we can use the data later without doing any prerocessing and training the data"
      ],
      "metadata": {
        "id": "8Qmp0jWYuImm"
      }
    },
    {
      "cell_type": "code",
      "source": [
        "import pickle\n",
        "filename= \"trained model.sav\"\n",
        "pickle.dump(logistic_regression_model, open(filename, 'wb'))\n",
        "filename2= \"vectorizermodel.sav\"\n",
        "pickle.dump(vectorizer, open(filename2, 'wb'))"
      ],
      "metadata": {
        "id": "SdQE2LHXshYb"
      },
      "execution_count": null,
      "outputs": []
    },
    {
      "cell_type": "markdown",
      "source": [
        "using the saved model for future predictions"
      ],
      "metadata": {
        "id": "7zytmVNIu0gS"
      }
    },
    {
      "cell_type": "code",
      "source": [
        "loaded_model=pickle.load(open('trained model.sav', 'rb'))"
      ],
      "metadata": {
        "id": "AP90RIq9usTL"
      },
      "execution_count": null,
      "outputs": []
    },
    {
      "cell_type": "code",
      "source": [
        "\n",
        "X_new = X_test[1524]\n",
        "predictedvalue= loaded_model.predict(X_new)\n",
        "if(predictedvalue==1):\n",
        "  print('Positive')\n",
        "else:\n",
        "  print('Negative')\n"
      ],
      "metadata": {
        "colab": {
          "base_uri": "https://localhost:8080/"
        },
        "id": "fNpsWCyMu5hW",
        "outputId": "90e1848c-4b6b-4f92-aa31-44320f69a5ad"
      },
      "execution_count": null,
      "outputs": [
        {
          "output_type": "stream",
          "name": "stdout",
          "text": [
            "Negative\n"
          ]
        }
      ]
    },
    {
      "cell_type": "code",
      "source": [
        "print(Y_test[1522])"
      ],
      "metadata": {
        "colab": {
          "base_uri": "https://localhost:8080/"
        },
        "id": "DX9JOZuZvOL0",
        "outputId": "ba51f8c3-e073-464d-d927-7a53cebe98d9"
      },
      "execution_count": null,
      "outputs": [
        {
          "output_type": "stream",
          "name": "stdout",
          "text": [
            "1\n"
          ]
        }
      ]
    },
    {
      "cell_type": "code",
      "source": [
        "import pickle\n",
        "from sklearn.feature_extraction.text import TfidfVectorizer\n",
        "\n",
        "# Load the trained model (adjust the path as necessary)\n",
        "with open('trained model.sav', 'rb') as model_file:\n",
        "    loaded_model = pickle.load(model_file)\n",
        "\n",
        "# Load the vectorizer used during training (adjust the path as necessary)\n",
        "with open('vectorizermodel.sav', 'rb') as vectorizer_file:\n",
        "    vectorizer = pickle.load(vectorizer_file)\n",
        "\n",
        "# Define the input text\n",
        "input_text = \"I am  harmful\"\n",
        "\n",
        "# Preprocess the input text: Vectorize it using the loaded vectorizer\n",
        "X_new = vectorizer.transform([input_text])\n",
        "\n",
        "# Predict the class of the input text\n",
        "predicted_value = loaded_model.predict(X_new)\n",
        "\n",
        "# Print the prediction result\n",
        "if predicted_value == 1:\n",
        "    print('Positive')\n",
        "else:\n",
        "    print('Negative')\n"
      ],
      "metadata": {
        "colab": {
          "base_uri": "https://localhost:8080/"
        },
        "id": "isoDgQ6XwpZN",
        "outputId": "d9fe7640-a780-4840-9fbb-f370f6477a2b"
      },
      "execution_count": null,
      "outputs": [
        {
          "output_type": "stream",
          "name": "stdout",
          "text": [
            "Positive\n"
          ]
        }
      ]
    },
    {
      "cell_type": "code",
      "source": [],
      "metadata": {
        "id": "nLWX64E-wtGL"
      },
      "execution_count": null,
      "outputs": []
    }
  ]
}